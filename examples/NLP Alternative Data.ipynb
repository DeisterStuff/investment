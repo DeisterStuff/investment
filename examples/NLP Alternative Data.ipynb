{
 "cells": [
  {
   "cell_type": "markdown",
   "metadata": {
    "heading_collapsed": true
   },
   "source": [
    "# scrapper"
   ]
  },
  {
   "cell_type": "code",
   "execution_count": null,
   "metadata": {
    "ExecuteTime": {
     "end_time": "2020-11-08T09:24:49.829093Z",
     "start_time": "2020-11-08T09:24:49.180220Z"
    },
    "hidden": true,
    "scrolled": true
   },
   "outputs": [],
   "source": [
    "cl=\"moduleFade__Frame-sc-53f9yi-0 eCGjpA\"\n",
    "import requests \n",
    "from bs4 import BeautifulSoup \n",
    "\n",
    "url =  \"https://www.coinbase.com/price/stellar\"\n",
    "r = requests.get(url) \n",
    "\n",
    "soup = BeautifulSoup(r.content,\n",
    "                    ) \n"
   ]
  },
  {
   "cell_type": "code",
   "execution_count": null,
   "metadata": {
    "hidden": true
   },
   "outputs": [],
   "source": []
  },
  {
   "cell_type": "code",
   "execution_count": null,
   "metadata": {
    "ExecuteTime": {
     "end_time": "2020-11-08T09:25:24.006494Z",
     "start_time": "2020-11-08T09:25:23.995093Z"
    },
    "hidden": true
   },
   "outputs": [],
   "source": [
    "a = soup.find('div',attrs={'class':cl})"
   ]
  },
  {
   "cell_type": "code",
   "execution_count": null,
   "metadata": {
    "ExecuteTime": {
     "end_time": "2020-11-08T09:29:05.165906Z",
     "start_time": "2020-11-08T09:29:05.153015Z"
    },
    "hidden": true
   },
   "outputs": [],
   "source": [
    "[x.text for x in soup.find_all('article')]"
   ]
  },
  {
   "cell_type": "code",
   "execution_count": null,
   "metadata": {
    "ExecuteTime": {
     "end_time": "2020-11-09T03:37:18.831048Z",
     "start_time": "2020-11-09T03:37:17.835648Z"
    },
    "hidden": true
   },
   "outputs": [],
   "source": [
    "# Import libraries\n",
    "from urllib.request import urlopen, Request\n",
    "from bs4 import BeautifulSoup\n",
    "import os\n",
    "import pandas as pd\n",
    "import matplotlib.pyplot as plt\n",
    "%matplotlib inline\n",
    "# NLTK VADER for sentiment analysis\n",
    "from nltk.sentiment.vader import SentimentIntensityAnalyzer\n",
    "\n",
    "finwiz_url = 'https://finviz.com/quote.ashx?t='\n"
   ]
  },
  {
   "cell_type": "code",
   "execution_count": null,
   "metadata": {
    "ExecuteTime": {
     "end_time": "2020-11-09T03:38:01.413715Z",
     "start_time": "2020-11-09T03:37:57.401371Z"
    },
    "hidden": true
   },
   "outputs": [],
   "source": [
    "news_tables = {}\n",
    "tickers = ['AMZN', 'TSLA', 'GOOG',]\n",
    "\n",
    "for ticker in tickers:\n",
    "    url = finwiz_url + ticker\n",
    "    req = Request(url=url,headers={'user-agent': 'my-app/0.0.1'}) \n",
    "    response = urlopen(req)    \n",
    "    # Read the contents of the file into 'html'\n",
    "    html = BeautifulSoup(response)\n",
    "    # Find 'news-table' in the Soup and load it into 'news_table'\n",
    "    news_table = html.find(id='news-table')\n",
    "    # Add the table to our dictionary\n",
    "    news_tables[ticker] = news_table"
   ]
  },
  {
   "cell_type": "code",
   "execution_count": null,
   "metadata": {
    "ExecuteTime": {
     "end_time": "2020-11-09T03:38:58.331036Z",
     "start_time": "2020-11-09T03:38:58.280074Z"
    },
    "hidden": true
   },
   "outputs": [],
   "source": []
  },
  {
   "cell_type": "code",
   "execution_count": null,
   "metadata": {
    "ExecuteTime": {
     "end_time": "2020-11-09T03:39:31.740419Z",
     "start_time": "2020-11-09T03:39:31.723007Z"
    },
    "hidden": true
   },
   "outputs": [],
   "source": [
    "# Read one single day of headlines for 'AMZN' \n",
    "amzn = news_tables['AMZN']\n",
    "# Get all the table rows tagged in HTML with <tr> into 'amzn_tr'\n",
    "amzn_tr = amzn.findAll('tr')\n",
    "\n",
    "for i, table_row in enumerate(amzn_tr):\n",
    "    # Read the text of the element 'a' into 'link_text'\n",
    "    a_text = table_row.a.text\n",
    "    # Read the text of the element 'td' into 'data_text'\n",
    "    td_text = table_row.td.text\n",
    "    # Print the contents of 'link_text' and 'data_text' \n",
    "    print(a_text)\n",
    "    print(td_text)\n",
    "    # Exit after printing 4 rows of data\n",
    "    if i == 3:\n",
    "        break"
   ]
  },
  {
   "cell_type": "code",
   "execution_count": null,
   "metadata": {
    "ExecuteTime": {
     "end_time": "2020-11-09T03:41:17.122981Z",
     "start_time": "2020-11-09T03:41:17.084766Z"
    },
    "hidden": true
   },
   "outputs": [],
   "source": [
    "parsed_news = []\n",
    "\n",
    "# Iterate through the news\n",
    "for file_name, news_table in news_tables.items():\n",
    "    # Iterate through all tr tags in 'news_table'\n",
    "    for x in news_table.findAll('tr'):\n",
    "        # read the text from each tr tag into text\n",
    "        # get text from a only\n",
    "        text = x.a.get_text() \n",
    "        # splite text in the td tag into a list \n",
    "        date_scrape = x.td.text.split()\n",
    "        # if the length of 'date_scrape' is 1, load 'time' as the only element\n",
    "\n",
    "        if len(date_scrape) == 1:\n",
    "            time = date_scrape[0]\n",
    "            \n",
    "        # else load 'date' as the 1st element and 'time' as the second    \n",
    "        else:\n",
    "            date = date_scrape[0]\n",
    "            time = date_scrape[1]\n",
    "        # Extract the ticker from the file name, get the string up to the 1st '_'  \n",
    "        ticker = file_name.split('_')[0]\n",
    "        \n",
    "        # Append ticker, date, time and headline as a list to the 'parsed_news' list\n",
    "        parsed_news.append([ticker, date, time, text])\n",
    "        \n",
    "parsed_news"
   ]
  },
  {
   "cell_type": "code",
   "execution_count": null,
   "metadata": {
    "ExecuteTime": {
     "end_time": "2020-11-09T03:42:17.530862Z",
     "start_time": "2020-11-09T03:42:17.447726Z"
    },
    "hidden": true
   },
   "outputs": [],
   "source": [
    "# Instantiate the sentiment intensity analyzer\n",
    "vader = SentimentIntensityAnalyzer()\n",
    "\n",
    "# Set column names\n",
    "columns = ['ticker', 'date', 'time', 'headline']\n",
    "\n",
    "# Convert the parsed_news list into a DataFrame called 'parsed_and_scored_news'\n",
    "parsed_and_scored_news = pd.DataFrame(parsed_news, columns=columns)\n",
    "\n",
    "# Iterate through the headlines and get the polarity scores using vader\n",
    "scores = parsed_and_scored_news['headline'].apply(vader.polarity_scores).tolist()\n",
    "\n",
    "# Convert the 'scores' list of dicts into a DataFrame\n",
    "scores_df = pd.DataFrame(scores)\n",
    "\n",
    "# Join the DataFrames of the news and the list of dicts\n",
    "parsed_and_scored_news = parsed_and_scored_news.join(scores_df, rsuffix='_right')\n",
    "\n",
    "# Convert the date column from string to datetime\n",
    "parsed_and_scored_news['date'] = pd.to_datetime(parsed_and_scored_news.date).dt.date\n",
    "\n",
    "parsed_and_scored_news.head()"
   ]
  },
  {
   "cell_type": "code",
   "execution_count": null,
   "metadata": {
    "ExecuteTime": {
     "end_time": "2020-11-09T04:02:34.006769Z",
     "start_time": "2020-11-09T04:02:31.939775Z"
    },
    "hidden": true
   },
   "outputs": [],
   "source": [
    "from flair.models import TextClassifier\n",
    "\n",
    "from flair.data import Sentence\n",
    "\n",
    "classifier = TextClassifier.load('en-sentiment')\n",
    "\n",
    "sentence = Sentence('Amazon breaks down in Brazil, riding e-commerce boom set off by COVID-19 distancing')\n",
    "\n",
    "classifier.predict(sentence)\n",
    "\n",
    "# print sentence with predicted labels\n",
    "print('Sentence above is: ', sentence.labels)"
   ]
  },
  {
   "cell_type": "code",
   "execution_count": null,
   "metadata": {
    "ExecuteTime": {
     "end_time": "2020-11-09T04:03:05.927876Z",
     "start_time": "2020-11-09T04:03:05.917434Z"
    },
    "hidden": true
   },
   "outputs": [],
   "source": [
    "sentence.labels[0].score"
   ]
  },
  {
   "cell_type": "code",
   "execution_count": null,
   "metadata": {
    "ExecuteTime": {
     "end_time": "2020-11-09T04:03:24.121888Z",
     "start_time": "2020-11-09T04:03:24.112472Z"
    },
    "hidden": true
   },
   "outputs": [],
   "source": [
    "def f(x):\n",
    "    sentence = Sentence(x)\n",
    "    classifier.predict(sentence)\n",
    "    sign = -1 if sentence.labels[0].value == 'NEGATIVE' else 1\n",
    "    score = sentence.labels[0].score*sign\n",
    "    return score"
   ]
  },
  {
   "cell_type": "code",
   "execution_count": null,
   "metadata": {
    "ExecuteTime": {
     "end_time": "2020-11-09T04:03:40.353638Z",
     "start_time": "2020-11-09T04:03:30.836278Z"
    },
    "hidden": true
   },
   "outputs": [],
   "source": [
    "parsed_and_scored_news[\"flair\"] = parsed_and_scored_news['headline'].map(f )"
   ]
  },
  {
   "cell_type": "code",
   "execution_count": null,
   "metadata": {
    "ExecuteTime": {
     "end_time": "2020-11-09T04:03:40.379306Z",
     "start_time": "2020-11-09T04:03:40.355249Z"
    },
    "hidden": true
   },
   "outputs": [],
   "source": [
    "parsed_and_scored_news"
   ]
  },
  {
   "cell_type": "code",
   "execution_count": null,
   "metadata": {
    "ExecuteTime": {
     "end_time": "2020-11-09T03:44:16.840906Z",
     "start_time": "2020-11-09T03:44:16.523238Z"
    },
    "hidden": true
   },
   "outputs": [],
   "source": [
    "import cufflinks as cf\n",
    "cf.go_offline()"
   ]
  },
  {
   "cell_type": "code",
   "execution_count": null,
   "metadata": {
    "ExecuteTime": {
     "end_time": "2020-11-09T03:44:17.441324Z",
     "start_time": "2020-11-09T03:44:16.845797Z"
    },
    "hidden": true
   },
   "outputs": [],
   "source": [
    "\n",
    "plt.rcParams['figure.figsize'] = [10, 6]\n",
    "\n",
    "# Group by date and ticker columns from scored_news and calculate the mean\n",
    "mean_scores = parsed_and_scored_news.groupby(['ticker','date']).mean()\n",
    "\n",
    "# Unstack the column ticker\n",
    "mean_scores = mean_scores.unstack()\n",
    "\n",
    "# Get the cross-section of compound in the 'columns' axis\n",
    "mean_scores = mean_scores.xs('compound', axis=\"columns\").transpose()\n",
    "\n",
    "# Plot a bar chart with pandas\n",
    "mean_scores.iplot(kind = 'bar')"
   ]
  },
  {
   "cell_type": "markdown",
   "metadata": {
    "heading_collapsed": true
   },
   "source": [
    "# News API\n"
   ]
  },
  {
   "cell_type": "code",
   "execution_count": null,
   "metadata": {
    "ExecuteTime": {
     "end_time": "2020-11-09T04:11:28.629290Z",
     "start_time": "2020-11-09T04:11:28.621912Z"
    },
    "hidden": true
   },
   "outputs": [],
   "source": [
    "token = \"f4f85aabb9434483b2d05201e573f3eb\""
   ]
  },
  {
   "cell_type": "code",
   "execution_count": null,
   "metadata": {
    "ExecuteTime": {
     "end_time": "2020-11-09T04:12:06.731214Z",
     "start_time": "2020-11-09T04:12:03.419676Z"
    },
    "hidden": true
   },
   "outputs": [],
   "source": [
    "pip install newsapi-python\n"
   ]
  },
  {
   "cell_type": "code",
   "execution_count": null,
   "metadata": {
    "ExecuteTime": {
     "end_time": "2020-11-09T04:13:12.827923Z",
     "start_time": "2020-11-09T04:13:12.815930Z"
    },
    "hidden": true
   },
   "outputs": [],
   "source": [
    "from newsapi import NewsApiClient\n",
    "\n",
    "# Init\n",
    "newsapi = NewsApiClient(api_key=token)"
   ]
  },
  {
   "cell_type": "code",
   "execution_count": null,
   "metadata": {
    "ExecuteTime": {
     "end_time": "2020-11-09T04:16:11.879549Z",
     "start_time": "2020-11-09T04:16:10.063722Z"
    },
    "hidden": true
   },
   "outputs": [],
   "source": [
    "# # /v2/top-headlines\n",
    "# top_headlines = newsapi.get_top_headlines(q='bitcoin',\n",
    "#                                           sources='bbc-news,the-verge',\n",
    "#                                           category='business',\n",
    "#                                           language='en',\n",
    "#                                           country='us')\n",
    "\n",
    "# /v2/everything\n",
    "all_articles = newsapi.get_everything(q='bitcoin',\n",
    "                                      sources='bbc-news,the-verge',\n",
    "                                      domains='bbc.co.uk,techcrunch.com',\n",
    "                                      from_param='2017-12-01',\n",
    "                                      to='2017-12-12',\n",
    "                                      language='en',\n",
    "                                      sort_by='relevancy',\n",
    "                                      page=2)\n",
    "\n",
    "# /v2/sources\n",
    "sources = newsapi.get_sources()"
   ]
  },
  {
   "cell_type": "markdown",
   "metadata": {},
   "source": [
    "# Google news"
   ]
  },
  {
   "cell_type": "code",
   "execution_count": null,
   "metadata": {
    "ExecuteTime": {
     "end_time": "2020-11-10T05:12:36.658092Z",
     "start_time": "2020-11-10T05:12:36.652052Z"
    }
   },
   "outputs": [],
   "source": [
    "import pandas as pd\n",
    "from GoogleNews import GoogleNews\n",
    "#only 10 per search"
   ]
  },
  {
   "cell_type": "markdown",
   "metadata": {},
   "source": [
    "### Get Dates"
   ]
  },
  {
   "cell_type": "code",
   "execution_count": 188,
   "metadata": {
    "ExecuteTime": {
     "end_time": "2020-11-10T05:38:32.897180Z",
     "start_time": "2020-11-10T05:38:32.873621Z"
    }
   },
   "outputs": [],
   "source": [
    "first = pd.to_datetime(\"01/01/2018\",dayfirst= True,)\n",
    "last = pd.to_datetime(\"09/11/2020\",dayfirst= True,)\n",
    "all_dates = pd.date_range(first,last,freq='d').to_series().dt.strftime(\"%m/%d/%Y\").values#Format of dates day/month/year"
   ]
  },
  {
   "cell_type": "code",
   "execution_count": 189,
   "metadata": {
    "ExecuteTime": {
     "end_time": "2020-11-10T05:38:33.265512Z",
     "start_time": "2020-11-10T05:38:33.261671Z"
    },
    "scrolled": true
   },
   "outputs": [
    {
     "data": {
      "text/plain": [
       "array(['01/01/2018', '01/02/2018', '01/03/2018', ..., '11/07/2020',\n",
       "       '11/08/2020', '11/09/2020'], dtype=object)"
      ]
     },
     "execution_count": 189,
     "metadata": {},
     "output_type": "execute_result"
    }
   ],
   "source": [
    "all_dates\n"
   ]
  },
  {
   "cell_type": "code",
   "execution_count": 159,
   "metadata": {
    "ExecuteTime": {
     "end_time": "2020-11-10T05:32:37.108093Z",
     "start_time": "2020-11-10T05:32:37.100566Z"
    }
   },
   "outputs": [],
   "source": [
    "googlenews = GoogleNews(lang='en',period='d') #today\n",
    "googlenews = GoogleNews(lang='en',start=all_dates[0],end=all_dates[0])#Format of dates month/day/year"
   ]
  },
  {
   "cell_type": "code",
   "execution_count": 160,
   "metadata": {
    "ExecuteTime": {
     "end_time": "2020-11-10T05:32:38.488690Z",
     "start_time": "2020-11-10T05:32:37.489997Z"
    }
   },
   "outputs": [],
   "source": [
    "googlenews.search('Nasdaq')"
   ]
  },
  {
   "cell_type": "code",
   "execution_count": 161,
   "metadata": {
    "ExecuteTime": {
     "end_time": "2020-11-10T05:32:38.611024Z",
     "start_time": "2020-11-10T05:32:38.606348Z"
    }
   },
   "outputs": [],
   "source": [
    "result= (googlenews.result())"
   ]
  },
  {
   "cell_type": "code",
   "execution_count": 165,
   "metadata": {
    "ExecuteTime": {
     "end_time": "2020-11-10T05:33:12.746503Z",
     "start_time": "2020-11-10T05:33:11.977256Z"
    }
   },
   "outputs": [],
   "source": [
    "googlenews.getpage(2)"
   ]
  },
  {
   "cell_type": "code",
   "execution_count": 162,
   "metadata": {
    "ExecuteTime": {
     "end_time": "2020-11-10T05:32:43.211635Z",
     "start_time": "2020-11-10T05:32:40.169637Z"
    },
    "scrolled": true
   },
   "outputs": [],
   "source": [
    "for i in range(3,7):\n",
    "    googlenews.getpage(i)\n",
    "    result=googlenews.result()\n",
    "    df=pd.DataFrame(result)"
   ]
  },
  {
   "cell_type": "code",
   "execution_count": 163,
   "metadata": {
    "ExecuteTime": {
     "end_time": "2020-11-10T05:32:43.755081Z",
     "start_time": "2020-11-10T05:32:43.731460Z"
    },
    "scrolled": true
   },
   "outputs": [
    {
     "data": {
      "text/html": [
       "<div>\n",
       "<style scoped>\n",
       "    .dataframe tbody tr th:only-of-type {\n",
       "        vertical-align: middle;\n",
       "    }\n",
       "\n",
       "    .dataframe tbody tr th {\n",
       "        vertical-align: top;\n",
       "    }\n",
       "\n",
       "    .dataframe thead th {\n",
       "        text-align: right;\n",
       "    }\n",
       "</style>\n",
       "<table border=\"1\" class=\"dataframe\">\n",
       "  <thead>\n",
       "    <tr style=\"text-align: right;\">\n",
       "      <th></th>\n",
       "      <th>title</th>\n",
       "      <th>media</th>\n",
       "      <th>date</th>\n",
       "      <th>desc</th>\n",
       "      <th>link</th>\n",
       "      <th>img</th>\n",
       "    </tr>\n",
       "  </thead>\n",
       "  <tbody>\n",
       "    <tr>\n",
       "      <th>0</th>\n",
       "      <td>Union Bankshares Corporation Completes Acquisi...</td>\n",
       "      <td></td>\n",
       "      <td>1 ene. 2018</td>\n",
       "      <td>Headquartered in Richmond, Virginia, Union Ban...</td>\n",
       "      <td>https://www.globenewswire.com/news-release/201...</td>\n",
       "      <td>data:image/gif;base64,R0lGODlhAQABAIAAAP//////...</td>\n",
       "    </tr>\n",
       "    <tr>\n",
       "      <th>1</th>\n",
       "      <td>4 Preferred Funds Paying Up to 7.2% – 2 Buys, ...</td>\n",
       "      <td>Nasdaq</td>\n",
       "      <td>1 ene. 2018</td>\n",
       "      <td>Nasdaq 100 Movers: BIIB, QCOM. Contributor. BN...</td>\n",
       "      <td>https://www.nasdaq.com/articles/4-preferred-fu...</td>\n",
       "      <td>data:image/gif;base64,R0lGODlhAQABAIAAAP//////...</td>\n",
       "    </tr>\n",
       "    <tr>\n",
       "      <th>2</th>\n",
       "      <td>Steady Hand Leads Check Point to New Post Dot-...</td>\n",
       "      <td>CTech</td>\n",
       "      <td>1 ene. 2018</td>\n",
       "      <td>The Nasdaq-listed cybersecurity company recent...</td>\n",
       "      <td>https://www.calcalistech.com/ctech/articles/0,...</td>\n",
       "      <td>data:image/gif;base64,R0lGODlhAQABAIAAAP//////...</td>\n",
       "    </tr>\n",
       "    <tr>\n",
       "      <th>3</th>\n",
       "      <td>The Social Security Administration May Be Stee...</td>\n",
       "      <td>Nasdaq</td>\n",
       "      <td>1 ene. 2018</td>\n",
       "      <td>Sessions College President Gordon Drummond joi...</td>\n",
       "      <td>https://www.nasdaq.com/articles/social-securit...</td>\n",
       "      <td>data:image/gif;base64,R0lGODlhAQABAIAAAP//////...</td>\n",
       "    </tr>\n",
       "    <tr>\n",
       "      <th>4</th>\n",
       "      <td>Calculating The Fair Value Of QVC Group (NASDA...</td>\n",
       "      <td></td>\n",
       "      <td>1 ene. 2018</td>\n",
       "      <td>Calculating The Fair Value Of QVC Group (NASDA...</td>\n",
       "      <td>https://simplywall.st/stocks/us/retail/nasdaq-...</td>\n",
       "      <td>data:image/gif;base64,R0lGODlhAQABAIAAAP//////...</td>\n",
       "    </tr>\n",
       "    <tr>\n",
       "      <th>5</th>\n",
       "      <td>National Commerce Corporation Announces Closin...</td>\n",
       "      <td></td>\n",
       "      <td>1 ene. 2018</td>\n",
       "      <td>01, 2018 (GLOBE NEWSWIRE) -- National Commerce...</td>\n",
       "      <td>https://www.globenewswire.com/news-release/201...</td>\n",
       "      <td>data:image/gif;base64,R0lGODlhAQABAIAAAP//////...</td>\n",
       "    </tr>\n",
       "    <tr>\n",
       "      <th>6</th>\n",
       "      <td>PepsiCo's Stock Buybacks: A Mixed Record In Ge...</td>\n",
       "      <td>Seeking Alpha</td>\n",
       "      <td>1 ene. 2018</td>\n",
       "      <td>The purpose of the article is to consider the ...</td>\n",
       "      <td>https://seekingalpha.com/article/4134688-pepsi...</td>\n",
       "      <td>data:image/gif;base64,R0lGODlhAQABAIAAAP//////...</td>\n",
       "    </tr>\n",
       "    <tr>\n",
       "      <th>7</th>\n",
       "      <td>Overstock: The Perfect Stock Blockchain Play</td>\n",
       "      <td>Seeking Alpha</td>\n",
       "      <td>1 ene. 2018</td>\n",
       "      <td>Peloton: Wait For The Crash, Then Buy The Stoc...</td>\n",
       "      <td>https://seekingalpha.com/article/4134692-overs...</td>\n",
       "      <td>data:image/gif;base64,R0lGODlhAQABAIAAAP//////...</td>\n",
       "    </tr>\n",
       "    <tr>\n",
       "      <th>8</th>\n",
       "      <td>Ripple was the best-performing cryptocurrency ...</td>\n",
       "      <td>Quartz</td>\n",
       "      <td>1 ene. 2018</td>\n",
       "      <td>After all, the Nasdaq Composite Index gained 2...</td>\n",
       "      <td>https://qz.com/1169000/ripple-was-the-best-per...</td>\n",
       "      <td>data:image/gif;base64,R0lGODlhAQABAIAAAP//////...</td>\n",
       "    </tr>\n",
       "    <tr>\n",
       "      <th>9</th>\n",
       "      <td>How high-frequency trading hit a speed bump</td>\n",
       "      <td>Financial Times</td>\n",
       "      <td>1 ene. 2018</td>\n",
       "      <td>Plugging into exchanges such as the NYSE and N...</td>\n",
       "      <td>https://www.ft.com/content/d81f96ea-d43c-11e7-...</td>\n",
       "      <td>data:image/gif;base64,R0lGODlhAQABAIAAAP//////...</td>\n",
       "    </tr>\n",
       "  </tbody>\n",
       "</table>\n",
       "</div>"
      ],
      "text/plain": [
       "                                               title            media  \\\n",
       "0  Union Bankshares Corporation Completes Acquisi...                    \n",
       "1  4 Preferred Funds Paying Up to 7.2% – 2 Buys, ...           Nasdaq   \n",
       "2  Steady Hand Leads Check Point to New Post Dot-...            CTech   \n",
       "3  The Social Security Administration May Be Stee...           Nasdaq   \n",
       "4  Calculating The Fair Value Of QVC Group (NASDA...                    \n",
       "5  National Commerce Corporation Announces Closin...                    \n",
       "6  PepsiCo's Stock Buybacks: A Mixed Record In Ge...    Seeking Alpha   \n",
       "7       Overstock: The Perfect Stock Blockchain Play    Seeking Alpha   \n",
       "8  Ripple was the best-performing cryptocurrency ...           Quartz   \n",
       "9        How high-frequency trading hit a speed bump  Financial Times   \n",
       "\n",
       "          date                                               desc  \\\n",
       "0  1 ene. 2018  Headquartered in Richmond, Virginia, Union Ban...   \n",
       "1  1 ene. 2018  Nasdaq 100 Movers: BIIB, QCOM. Contributor. BN...   \n",
       "2  1 ene. 2018  The Nasdaq-listed cybersecurity company recent...   \n",
       "3  1 ene. 2018  Sessions College President Gordon Drummond joi...   \n",
       "4  1 ene. 2018  Calculating The Fair Value Of QVC Group (NASDA...   \n",
       "5  1 ene. 2018  01, 2018 (GLOBE NEWSWIRE) -- National Commerce...   \n",
       "6  1 ene. 2018  The purpose of the article is to consider the ...   \n",
       "7  1 ene. 2018  Peloton: Wait For The Crash, Then Buy The Stoc...   \n",
       "8  1 ene. 2018  After all, the Nasdaq Composite Index gained 2...   \n",
       "9  1 ene. 2018  Plugging into exchanges such as the NYSE and N...   \n",
       "\n",
       "                                                link  \\\n",
       "0  https://www.globenewswire.com/news-release/201...   \n",
       "1  https://www.nasdaq.com/articles/4-preferred-fu...   \n",
       "2  https://www.calcalistech.com/ctech/articles/0,...   \n",
       "3  https://www.nasdaq.com/articles/social-securit...   \n",
       "4  https://simplywall.st/stocks/us/retail/nasdaq-...   \n",
       "5  https://www.globenewswire.com/news-release/201...   \n",
       "6  https://seekingalpha.com/article/4134688-pepsi...   \n",
       "7  https://seekingalpha.com/article/4134692-overs...   \n",
       "8  https://qz.com/1169000/ripple-was-the-best-per...   \n",
       "9  https://www.ft.com/content/d81f96ea-d43c-11e7-...   \n",
       "\n",
       "                                                 img  \n",
       "0  data:image/gif;base64,R0lGODlhAQABAIAAAP//////...  \n",
       "1  data:image/gif;base64,R0lGODlhAQABAIAAAP//////...  \n",
       "2  data:image/gif;base64,R0lGODlhAQABAIAAAP//////...  \n",
       "3  data:image/gif;base64,R0lGODlhAQABAIAAAP//////...  \n",
       "4  data:image/gif;base64,R0lGODlhAQABAIAAAP//////...  \n",
       "5  data:image/gif;base64,R0lGODlhAQABAIAAAP//////...  \n",
       "6  data:image/gif;base64,R0lGODlhAQABAIAAAP//////...  \n",
       "7  data:image/gif;base64,R0lGODlhAQABAIAAAP//////...  \n",
       "8  data:image/gif;base64,R0lGODlhAQABAIAAAP//////...  \n",
       "9  data:image/gif;base64,R0lGODlhAQABAIAAAP//////...  "
      ]
     },
     "execution_count": 163,
     "metadata": {},
     "output_type": "execute_result"
    }
   ],
   "source": [
    "df.drop_duplicates(subset='link')"
   ]
  },
  {
   "cell_type": "code",
   "execution_count": 194,
   "metadata": {
    "ExecuteTime": {
     "end_time": "2020-11-10T05:39:45.645494Z",
     "start_time": "2020-11-10T05:39:45.632320Z"
    }
   },
   "outputs": [],
   "source": [
    "def get_data_news(dates,topic,pages,lang):\n",
    "    result = []\n",
    "    \n",
    "    for i in dates:\n",
    "        googlenews = GoogleNews(lang=lang,start=i,end=i)\n",
    "        googlenews.search(topic)\n",
    "        for p in range(2,pages+1):\n",
    "            googlenews.getpage(p)\n",
    "        r = googlenews.result()\n",
    "#         pd.to_pickle(r,f\"google_news_{topic}_{i}.pkl\")\n",
    "        result.extend(r)\n",
    "        pd.to_pickle(result,f\"google_news_{topic}_{dates[0]}.pkl\")\n",
    "        \n",
    "#         df.append(pd.DataFrame(result))\n",
    "    df=pd.DataFrame(result)\n",
    "    df.drop_duplicates(subset='link',inplace=True)\n",
    "    return df"
   ]
  },
  {
   "cell_type": "code",
   "execution_count": 195,
   "metadata": {
    "ExecuteTime": {
     "end_time": "2020-11-10T05:39:51.657077Z",
     "start_time": "2020-11-10T05:39:47.615230Z"
    }
   },
   "outputs": [],
   "source": [
    " data = get_data_news(dates=all_dates[-2:],topic='nasdaq',pages=2,lang='en')"
   ]
  },
  {
   "cell_type": "code",
   "execution_count": 196,
   "metadata": {
    "ExecuteTime": {
     "end_time": "2020-11-10T05:39:51.679645Z",
     "start_time": "2020-11-10T05:39:51.658351Z"
    },
    "scrolled": true
   },
   "outputs": [
    {
     "data": {
      "text/html": [
       "<div>\n",
       "<style scoped>\n",
       "    .dataframe tbody tr th:only-of-type {\n",
       "        vertical-align: middle;\n",
       "    }\n",
       "\n",
       "    .dataframe tbody tr th {\n",
       "        vertical-align: top;\n",
       "    }\n",
       "\n",
       "    .dataframe thead th {\n",
       "        text-align: right;\n",
       "    }\n",
       "</style>\n",
       "<table border=\"1\" class=\"dataframe\">\n",
       "  <thead>\n",
       "    <tr style=\"text-align: right;\">\n",
       "      <th></th>\n",
       "      <th>title</th>\n",
       "      <th>media</th>\n",
       "      <th>date</th>\n",
       "      <th>desc</th>\n",
       "      <th>link</th>\n",
       "      <th>img</th>\n",
       "    </tr>\n",
       "  </thead>\n",
       "  <tbody>\n",
       "    <tr>\n",
       "      <th>0</th>\n",
       "      <td>Inseego Corp. (NASDAQ:INSG) Just Released Its ...</td>\n",
       "      <td>Yahoo Finance</td>\n",
       "      <td>hace 1 día</td>\n",
       "      <td>(NASDAQ:INSG) Just Released Its Third-Quarter ...</td>\n",
       "      <td>https://finance.yahoo.com/news/inseego-corp-na...</td>\n",
       "      <td>data:image/gif;base64,R0lGODlhAQABAIAAAP//////...</td>\n",
       "    </tr>\n",
       "    <tr>\n",
       "      <th>1</th>\n",
       "      <td>Mesa Laboratories, Inc. Just Beat Earnings Exp...</td>\n",
       "      <td></td>\n",
       "      <td>hace 1 día</td>\n",
       "      <td>(NASDAQ:MLAB) just released its latest second-...</td>\n",
       "      <td>https://www.nasdaq.com/articles/mesa-laborator...</td>\n",
       "      <td>data:image/gif;base64,R0lGODlhAQABAIAAAP//////...</td>\n",
       "    </tr>\n",
       "    <tr>\n",
       "      <th>2</th>\n",
       "      <td>Inseego Corp. (NASDAQ:INSG) Third-Quarter Resu...</td>\n",
       "      <td></td>\n",
       "      <td>hace 1 día</td>\n",
       "      <td>(NASDAQ:INSG) Third-Quarter Results: Here's Wh...</td>\n",
       "      <td>https://simplywall.st/stocks/us/tech/nasdaq-in...</td>\n",
       "      <td>data:image/gif;base64,R0lGODlhAQABAIAAAP//////...</td>\n",
       "    </tr>\n",
       "    <tr>\n",
       "      <th>3</th>\n",
       "      <td>GLOBAL MARKETS-Risk assets cheer Biden win, do...</td>\n",
       "      <td>Nasdaq</td>\n",
       "      <td>hace 1 día</td>\n",
       "      <td>E-mini futures for the S&amp;P 500 ESc1 jumped mor...</td>\n",
       "      <td>https://www.nasdaq.com/articles/global-markets...</td>\n",
       "      <td>data:image/gif;base64,R0lGODlhAQABAIAAAP//////...</td>\n",
       "    </tr>\n",
       "    <tr>\n",
       "      <th>4</th>\n",
       "      <td>3 Things to Watch in the Stock Market This Week</td>\n",
       "      <td></td>\n",
       "      <td>hace 1 día</td>\n",
       "      <td>A few widely followed companies will announce ...</td>\n",
       "      <td>https://www.nasdaq.com/articles/3-things-to-wa...</td>\n",
       "      <td>data:image/gif;base64,R0lGODlhAQABAIAAAP//////...</td>\n",
       "    </tr>\n",
       "    <tr>\n",
       "      <th>5</th>\n",
       "      <td>Acorda Therapeutics, Inc. (NASDAQ:ACOR) Analys...</td>\n",
       "      <td>Yahoo Finance</td>\n",
       "      <td>hace 1 día</td>\n",
       "      <td>(NASDAQ:ACOR) Analysts Are Reducing Their Fore...</td>\n",
       "      <td>https://finance.yahoo.com/news/acorda-therapeu...</td>\n",
       "      <td>data:image/gif;base64,R0lGODlhAQABAIAAAP//////...</td>\n",
       "    </tr>\n",
       "    <tr>\n",
       "      <th>6</th>\n",
       "      <td>The Dow Jones, SP 500 and Nasdaq rose on a wee...</td>\n",
       "      <td>The Washington Newsday</td>\n",
       "      <td>hace 1 día</td>\n",
       "      <td>This week the Dow Jones rose 6.9%, the S&amp;P 500...</td>\n",
       "      <td>https://washingtonnewsday.com/news/the-dow-jon...</td>\n",
       "      <td>data:image/gif;base64,R0lGODlhAQABAIAAAP//////...</td>\n",
       "    </tr>\n",
       "    <tr>\n",
       "      <th>7</th>\n",
       "      <td>Bearish: Analysts Just Cut Their MannKind Corp...</td>\n",
       "      <td>Yahoo Finance</td>\n",
       "      <td>hace 1 día</td>\n",
       "      <td>Bearish: Analysts Just Cut Their MannKind Corp...</td>\n",
       "      <td>https://finance.yahoo.com/news/bearish-analyst...</td>\n",
       "      <td>data:image/gif;base64,R0lGODlhAQABAIAAAP//////...</td>\n",
       "    </tr>\n",
       "    <tr>\n",
       "      <th>8</th>\n",
       "      <td>G1 Therapeutics, Inc. (NASDAQ:GTHX) Third-Quar...</td>\n",
       "      <td>Yahoo Finance</td>\n",
       "      <td>hace 1 día</td>\n",
       "      <td>(NASDAQ:GTHX) Third-Quarter Results: Here's Wh...</td>\n",
       "      <td>https://finance.yahoo.com/news/g1-therapeutics...</td>\n",
       "      <td>data:image/gif;base64,R0lGODlhAQABAIAAAP//////...</td>\n",
       "    </tr>\n",
       "    <tr>\n",
       "      <th>9</th>\n",
       "      <td>ANALYSIS-Russia and Turkey keep powder dry in ...</td>\n",
       "      <td>Nasdaq</td>\n",
       "      <td>hace 22 horas</td>\n",
       "      <td>Nasdaq Chief Economist Phil Mackintosh joins G...</td>\n",
       "      <td>https://www.nasdaq.com/articles/analysis-russi...</td>\n",
       "      <td>data:image/gif;base64,R0lGODlhAQABAIAAAP//////...</td>\n",
       "    </tr>\n",
       "    <tr>\n",
       "      <th>10</th>\n",
       "      <td>Don't Race Out To Buy FedNat Holding Company (...</td>\n",
       "      <td>Yahoo Finance</td>\n",
       "      <td>hace 1 día</td>\n",
       "      <td>Don't Race Out To Buy FedNat Holding Company (...</td>\n",
       "      <td>https://finance.yahoo.com/news/dont-race-buy-f...</td>\n",
       "      <td>data:image/gif;base64,R0lGODlhAQABAIAAAP//////...</td>\n",
       "    </tr>\n",
       "    <tr>\n",
       "      <th>11</th>\n",
       "      <td>Bolsonaro's support falls in some of Brazil's ...</td>\n",
       "      <td>Nasdaq</td>\n",
       "      <td>hace 1 día</td>\n",
       "      <td>Nasdaq Chief Economist Phil Mackintosh joins G...</td>\n",
       "      <td>https://www.nasdaq.com/articles/bolsonaros-sup...</td>\n",
       "      <td>data:image/gif;base64,R0lGODlhAQABAIAAAP//////...</td>\n",
       "    </tr>\n",
       "    <tr>\n",
       "      <th>12</th>\n",
       "      <td>Moderna and Pfizer: A Tale of Two mRNA Coronav...</td>\n",
       "      <td>Nasdaq</td>\n",
       "      <td>hace 1 día</td>\n",
       "      <td>And that describes Moderna (NASDAQ: MRNA) and ...</td>\n",
       "      <td>https://www.nasdaq.com/articles/moderna-and-pf...</td>\n",
       "      <td>data:image/gif;base64,R0lGODlhAQABAIAAAP//////...</td>\n",
       "    </tr>\n",
       "    <tr>\n",
       "      <th>13</th>\n",
       "      <td>Reading Between the Lines of China’s Macroecon...</td>\n",
       "      <td>Nasdaq</td>\n",
       "      <td>hace 1 día</td>\n",
       "      <td>The views and opinions expressed herein are th...</td>\n",
       "      <td>https://www.nasdaq.com/articles/reading-betwee...</td>\n",
       "      <td>data:image/gif;base64,R0lGODlhAQABAIAAAP//////...</td>\n",
       "    </tr>\n",
       "    <tr>\n",
       "      <th>14</th>\n",
       "      <td>Japan manufacturers' less pessimistic in Nov -...</td>\n",
       "      <td>Nasdaq</td>\n",
       "      <td>hace 1 día</td>\n",
       "      <td>Nasdaq Chief Economist Phil Mackintosh joins G...</td>\n",
       "      <td>https://www.nasdaq.com/articles/japan-manufact...</td>\n",
       "      <td>data:image/gif;base64,R0lGODlhAQABAIAAAP//////...</td>\n",
       "    </tr>\n",
       "    <tr>\n",
       "      <th>15</th>\n",
       "      <td>Why Aurora Cannabis' Ginormous Gain Could Quic...</td>\n",
       "      <td></td>\n",
       "      <td>hace 1 día</td>\n",
       "      <td>The views and opinions expressed herein are th...</td>\n",
       "      <td>https://www.nasdaq.com/articles/why-aurora-can...</td>\n",
       "      <td>data:image/gif;base64,R0lGODlhAQABAIAAAP//////...</td>\n",
       "    </tr>\n",
       "    <tr>\n",
       "      <th>16</th>\n",
       "      <td>Ollie's Bargain Outlet: Expansion Opportunitie...</td>\n",
       "      <td>Nasdaq</td>\n",
       "      <td>hace 1 día</td>\n",
       "      <td>Close-out merchandise specialist Ollie's Barga...</td>\n",
       "      <td>https://www.nasdaq.com/articles/ollies-bargain...</td>\n",
       "      <td>data:image/gif;base64,R0lGODlhAQABAIAAAP//////...</td>\n",
       "    </tr>\n",
       "    <tr>\n",
       "      <th>17</th>\n",
       "      <td>Retiring in 2021? Make Sure You've Done These ...</td>\n",
       "      <td>Nasdaq</td>\n",
       "      <td>hace 1 día</td>\n",
       "      <td>The views and opinions expressed herein are th...</td>\n",
       "      <td>https://www.nasdaq.com/articles/retiring-in-20...</td>\n",
       "      <td>data:image/gif;base64,R0lGODlhAQABAIAAAP//////...</td>\n",
       "    </tr>\n",
       "    <tr>\n",
       "      <th>18</th>\n",
       "      <td>NASDAQ 100 Forecast: Market Continues to Press...</td>\n",
       "      <td>DailyForex.com</td>\n",
       "      <td>hace 22 horas</td>\n",
       "      <td>The NASDAQ 100 has pulled back during the trad...</td>\n",
       "      <td>https://www.dailyforex.com/forex-technical-ana...</td>\n",
       "      <td>data:image/gif;base64,R0lGODlhAQABAIAAAP//////...</td>\n",
       "    </tr>\n",
       "    <tr>\n",
       "      <th>19</th>\n",
       "      <td>Rally May Stall For Malaysia Stock Market</td>\n",
       "      <td></td>\n",
       "      <td>hace 1 día</td>\n",
       "      <td>For the week, The Dow jumped 6.9 percent, the ...</td>\n",
       "      <td>https://www.nasdaq.com/articles/rally-may-stal...</td>\n",
       "      <td>data:image/gif;base64,R0lGODlhAQABAIAAAP//////...</td>\n",
       "    </tr>\n",
       "    <tr>\n",
       "      <th>20</th>\n",
       "      <td>Dow jumps over 800 points, its best daily gain...</td>\n",
       "      <td>MarketWatch</td>\n",
       "      <td>hace 17 horas</td>\n",
       "      <td>The Nasdaq Composite COMP, -1.52% flipped nega...</td>\n",
       "      <td>https://www.marketwatch.com/story/dow-futures-...</td>\n",
       "      <td>data:image/gif;base64,R0lGODlhAQABAIAAAP//////...</td>\n",
       "    </tr>\n",
       "    <tr>\n",
       "      <th>21</th>\n",
       "      <td>Blame These 4 Stocks for the Nasdaq's Disappoi...</td>\n",
       "      <td>Motley Fool</td>\n",
       "      <td>hace 9 horas</td>\n",
       "      <td>Small gains for the Nasdaq Composite paled in ...</td>\n",
       "      <td>https://www.fool.com/investing/2020/11/09/blam...</td>\n",
       "      <td>data:image/gif;base64,R0lGODlhAQABAIAAAP//////...</td>\n",
       "    </tr>\n",
       "    <tr>\n",
       "      <th>22</th>\n",
       "      <td>U.S. Stocks Pull Back Off Best Levels But Rema...</td>\n",
       "      <td></td>\n",
       "      <td>hace 12 horas</td>\n",
       "      <td>The tech-heavy Nasdaq is up a more modest 82.5...</td>\n",
       "      <td>https://www.nasdaq.com/articles/u.s.-stocks-pu...</td>\n",
       "      <td>data:image/gif;base64,R0lGODlhAQABAIAAAP//////...</td>\n",
       "    </tr>\n",
       "    <tr>\n",
       "      <th>23</th>\n",
       "      <td>Enthusiast Gaming Planning to List on NASDAQ</td>\n",
       "      <td></td>\n",
       "      <td>hace 17 horas</td>\n",
       "      <td>Listing on NASDAQ will provide access to large...</td>\n",
       "      <td>https://finance.yahoo.com/news/enthusiast-gami...</td>\n",
       "      <td>data:image/gif;base64,R0lGODlhAQABAIAAAP//////...</td>\n",
       "    </tr>\n",
       "    <tr>\n",
       "      <th>24</th>\n",
       "      <td>US STOCKS-Wall St set to jump after Biden elec...</td>\n",
       "      <td>Nasdaq</td>\n",
       "      <td>hace 20 horas</td>\n",
       "      <td>Nasdaq futures NQc1 rallied more than 2% to ju...</td>\n",
       "      <td>https://www.nasdaq.com/articles/us-stocks-wall...</td>\n",
       "      <td>data:image/gif;base64,R0lGODlhAQABAIAAAP//////...</td>\n",
       "    </tr>\n",
       "    <tr>\n",
       "      <th>25</th>\n",
       "      <td>Nasdaq 100 forecast: can the tech sector hold ...</td>\n",
       "      <td>Capital.com</td>\n",
       "      <td>hace 13 horas</td>\n",
       "      <td>The Nasdaq trend continued with the index of t...</td>\n",
       "      <td>https://capital.com/nasdaq-100-forecast-2021</td>\n",
       "      <td>data:image/gif;base64,R0lGODlhAQABAIAAAP//////...</td>\n",
       "    </tr>\n",
       "    <tr>\n",
       "      <th>26</th>\n",
       "      <td>Avnet (AVT) Shares Cross Above 200 DMA</td>\n",
       "      <td>Nasdaq</td>\n",
       "      <td>hace 8 horas</td>\n",
       "      <td>The views and opinions expressed herein are th...</td>\n",
       "      <td>https://www.nasdaq.com/articles/avnet-avt-shar...</td>\n",
       "      <td>data:image/gif;base64,R0lGODlhAQABAIAAAP//////...</td>\n",
       "    </tr>\n",
       "    <tr>\n",
       "      <th>27</th>\n",
       "      <td>15% Downside For ON Semiconductor Stock?</td>\n",
       "      <td>Nasdaq</td>\n",
       "      <td>hace 21 horas</td>\n",
       "      <td>Nasdaq Chief Economist Phil Mackintosh joins G...</td>\n",
       "      <td>https://www.nasdaq.com/articles/15-downside-fo...</td>\n",
       "      <td>data:image/gif;base64,R0lGODlhAQABAIAAAP//////...</td>\n",
       "    </tr>\n",
       "    <tr>\n",
       "      <th>28</th>\n",
       "      <td>Adena Friedman, president and CEO of Nasdaq, t...</td>\n",
       "      <td>Vanderbilt University News</td>\n",
       "      <td>hace 15 horas</td>\n",
       "      <td>She started her Nasdaq career as a business an...</td>\n",
       "      <td>https://news.vanderbilt.edu/2020/11/09/adena-f...</td>\n",
       "      <td>data:image/gif;base64,R0lGODlhAQABAIAAAP//////...</td>\n",
       "    </tr>\n",
       "    <tr>\n",
       "      <th>29</th>\n",
       "      <td>Rigel Pharmaceuticals, Inc. (NASDAQ:RIGL) Just...</td>\n",
       "      <td>Yahoo Finance</td>\n",
       "      <td>hace 16 horas</td>\n",
       "      <td>(NASDAQ:RIGL) Just Released Its Third-Quarter ...</td>\n",
       "      <td>https://finance.yahoo.com/news/rigel-pharmaceu...</td>\n",
       "      <td>data:image/gif;base64,R0lGODlhAQABAIAAAP//////...</td>\n",
       "    </tr>\n",
       "    <tr>\n",
       "      <th>30</th>\n",
       "      <td>Independent Bank Breaks Above 200-Day Moving A...</td>\n",
       "      <td>Nasdaq</td>\n",
       "      <td>hace 8 horas</td>\n",
       "      <td>The views and opinions expressed herein are th...</td>\n",
       "      <td>https://www.nasdaq.com/articles/independent-ba...</td>\n",
       "      <td>data:image/gif;base64,R0lGODlhAQABAIAAAP//////...</td>\n",
       "    </tr>\n",
       "    <tr>\n",
       "      <th>31</th>\n",
       "      <td>Nasdaq, other trading exchanges to meet with T...</td>\n",
       "      <td>The Dallas Morning News</td>\n",
       "      <td>hace 5 horas</td>\n",
       "      <td>Greg Abbott will welcome representatives from ...</td>\n",
       "      <td>https://www.dallasnews.com/business/technology...</td>\n",
       "      <td>data:image/gif;base64,R0lGODlhAQABAIAAAP//////...</td>\n",
       "    </tr>\n",
       "    <tr>\n",
       "      <th>32</th>\n",
       "      <td>Best Thematic ETFs: Telemedicine, Cloud, IoT &amp;...</td>\n",
       "      <td>Nasdaq</td>\n",
       "      <td>hace 8 horas</td>\n",
       "      <td>The S&amp;P 500, the Dow, and the Nasdaq all then ...</td>\n",
       "      <td>https://www.nasdaq.com/articles/best-thematic-...</td>\n",
       "      <td>data:image/gif;base64,R0lGODlhAQABAIAAAP//////...</td>\n",
       "    </tr>\n",
       "    <tr>\n",
       "      <th>33</th>\n",
       "      <td>EARNINGS SUMMARY: Details of Inovio Pharmaceut...</td>\n",
       "      <td></td>\n",
       "      <td>hace 8 horas</td>\n",
       "      <td>The views and opinions expressed herein are th...</td>\n",
       "      <td>https://www.nasdaq.com/articles/earnings-summa...</td>\n",
       "      <td>data:image/gif;base64,R0lGODlhAQABAIAAAP//////...</td>\n",
       "    </tr>\n",
       "    <tr>\n",
       "      <th>34</th>\n",
       "      <td>Plug Power Announces 2020 Third Quarter Result...</td>\n",
       "      <td></td>\n",
       "      <td>hace 17 horas</td>\n",
       "      <td>(NASDAQ:PLUG), a leading provider of hydrogen ...</td>\n",
       "      <td>https://www.globenewswire.com/news-release/202...</td>\n",
       "      <td>data:image/gif;base64,R0lGODlhAQABAIAAAP//////...</td>\n",
       "    </tr>\n",
       "    <tr>\n",
       "      <th>35</th>\n",
       "      <td>Daily Markets: Stocks Surge on Biden Win and C...</td>\n",
       "      <td>Nasdaq</td>\n",
       "      <td>hace 16 horas</td>\n",
       "      <td>Who would have guessed that with stimulus off ...</td>\n",
       "      <td>https://www.nasdaq.com/articles/daily-markets%...</td>\n",
       "      <td>data:image/gif;base64,R0lGODlhAQABAIAAAP//////...</td>\n",
       "    </tr>\n",
       "    <tr>\n",
       "      <th>36</th>\n",
       "      <td>Splits of the Collateralised ETP Securities of...</td>\n",
       "      <td></td>\n",
       "      <td>hace 18 horas</td>\n",
       "      <td>WisdomTree NASDAQ 100 3x Daily Leveraged (the ...</td>\n",
       "      <td>https://www.globenewswire.com/news-release/202...</td>\n",
       "      <td>data:image/gif;base64,R0lGODlhAQABAIAAAP//////...</td>\n",
       "    </tr>\n",
       "    <tr>\n",
       "      <th>37</th>\n",
       "      <td>Reed's, Inc. Announces Third Quarter 2020 Fina...</td>\n",
       "      <td></td>\n",
       "      <td>hace 8 horas</td>\n",
       "      <td>(Nasdaq:REED), owner of the nation's leading p...</td>\n",
       "      <td>https://www.globenewswire.com/news-release/202...</td>\n",
       "      <td>data:image/gif;base64,R0lGODlhAQABAIAAAP//////...</td>\n",
       "    </tr>\n",
       "    <tr>\n",
       "      <th>38</th>\n",
       "      <td>Israeli ad-tech firm IronSource plans Nasdaq I...</td>\n",
       "      <td>The Times of Israel</td>\n",
       "      <td>hace 17 horas</td>\n",
       "      <td>Advertising tech firm IronSouce is planning an...</td>\n",
       "      <td>https://www.timesofisrael.com/israeli-ad-tech-...</td>\n",
       "      <td>data:image/gif;base64,R0lGODlhAQABAIAAAP//////...</td>\n",
       "    </tr>\n",
       "    <tr>\n",
       "      <th>39</th>\n",
       "      <td>Why Shares of This Electric Carmaker Skyrocket...</td>\n",
       "      <td></td>\n",
       "      <td>hace 8 horas</td>\n",
       "      <td>It also outperformed Tesla (NASDAQ: TSLA), sha...</td>\n",
       "      <td>https://www.nasdaq.com/articles/why-shares-of-...</td>\n",
       "      <td>data:image/gif;base64,R0lGODlhAQABAIAAAP//////...</td>\n",
       "    </tr>\n",
       "  </tbody>\n",
       "</table>\n",
       "</div>"
      ],
      "text/plain": [
       "                                                title  \\\n",
       "0   Inseego Corp. (NASDAQ:INSG) Just Released Its ...   \n",
       "1   Mesa Laboratories, Inc. Just Beat Earnings Exp...   \n",
       "2   Inseego Corp. (NASDAQ:INSG) Third-Quarter Resu...   \n",
       "3   GLOBAL MARKETS-Risk assets cheer Biden win, do...   \n",
       "4     3 Things to Watch in the Stock Market This Week   \n",
       "5   Acorda Therapeutics, Inc. (NASDAQ:ACOR) Analys...   \n",
       "6   The Dow Jones, SP 500 and Nasdaq rose on a wee...   \n",
       "7   Bearish: Analysts Just Cut Their MannKind Corp...   \n",
       "8   G1 Therapeutics, Inc. (NASDAQ:GTHX) Third-Quar...   \n",
       "9   ANALYSIS-Russia and Turkey keep powder dry in ...   \n",
       "10  Don't Race Out To Buy FedNat Holding Company (...   \n",
       "11  Bolsonaro's support falls in some of Brazil's ...   \n",
       "12  Moderna and Pfizer: A Tale of Two mRNA Coronav...   \n",
       "13  Reading Between the Lines of China’s Macroecon...   \n",
       "14  Japan manufacturers' less pessimistic in Nov -...   \n",
       "15  Why Aurora Cannabis' Ginormous Gain Could Quic...   \n",
       "16  Ollie's Bargain Outlet: Expansion Opportunitie...   \n",
       "17  Retiring in 2021? Make Sure You've Done These ...   \n",
       "18  NASDAQ 100 Forecast: Market Continues to Press...   \n",
       "19          Rally May Stall For Malaysia Stock Market   \n",
       "20  Dow jumps over 800 points, its best daily gain...   \n",
       "21  Blame These 4 Stocks for the Nasdaq's Disappoi...   \n",
       "22  U.S. Stocks Pull Back Off Best Levels But Rema...   \n",
       "23       Enthusiast Gaming Planning to List on NASDAQ   \n",
       "24  US STOCKS-Wall St set to jump after Biden elec...   \n",
       "25  Nasdaq 100 forecast: can the tech sector hold ...   \n",
       "26             Avnet (AVT) Shares Cross Above 200 DMA   \n",
       "27           15% Downside For ON Semiconductor Stock?   \n",
       "28  Adena Friedman, president and CEO of Nasdaq, t...   \n",
       "29  Rigel Pharmaceuticals, Inc. (NASDAQ:RIGL) Just...   \n",
       "30  Independent Bank Breaks Above 200-Day Moving A...   \n",
       "31  Nasdaq, other trading exchanges to meet with T...   \n",
       "32  Best Thematic ETFs: Telemedicine, Cloud, IoT &...   \n",
       "33  EARNINGS SUMMARY: Details of Inovio Pharmaceut...   \n",
       "34  Plug Power Announces 2020 Third Quarter Result...   \n",
       "35  Daily Markets: Stocks Surge on Biden Win and C...   \n",
       "36  Splits of the Collateralised ETP Securities of...   \n",
       "37  Reed's, Inc. Announces Third Quarter 2020 Fina...   \n",
       "38  Israeli ad-tech firm IronSource plans Nasdaq I...   \n",
       "39  Why Shares of This Electric Carmaker Skyrocket...   \n",
       "\n",
       "                         media           date  \\\n",
       "0                Yahoo Finance     hace 1 día   \n",
       "1                                  hace 1 día   \n",
       "2                                  hace 1 día   \n",
       "3                       Nasdaq     hace 1 día   \n",
       "4                                  hace 1 día   \n",
       "5                Yahoo Finance     hace 1 día   \n",
       "6       The Washington Newsday     hace 1 día   \n",
       "7                Yahoo Finance     hace 1 día   \n",
       "8                Yahoo Finance     hace 1 día   \n",
       "9                       Nasdaq  hace 22 horas   \n",
       "10               Yahoo Finance     hace 1 día   \n",
       "11                      Nasdaq     hace 1 día   \n",
       "12                      Nasdaq     hace 1 día   \n",
       "13                      Nasdaq     hace 1 día   \n",
       "14                      Nasdaq     hace 1 día   \n",
       "15                                 hace 1 día   \n",
       "16                      Nasdaq     hace 1 día   \n",
       "17                      Nasdaq     hace 1 día   \n",
       "18              DailyForex.com  hace 22 horas   \n",
       "19                                 hace 1 día   \n",
       "20                 MarketWatch  hace 17 horas   \n",
       "21                 Motley Fool   hace 9 horas   \n",
       "22                              hace 12 horas   \n",
       "23                              hace 17 horas   \n",
       "24                      Nasdaq  hace 20 horas   \n",
       "25                 Capital.com  hace 13 horas   \n",
       "26                      Nasdaq   hace 8 horas   \n",
       "27                      Nasdaq  hace 21 horas   \n",
       "28  Vanderbilt University News  hace 15 horas   \n",
       "29               Yahoo Finance  hace 16 horas   \n",
       "30                      Nasdaq   hace 8 horas   \n",
       "31     The Dallas Morning News   hace 5 horas   \n",
       "32                      Nasdaq   hace 8 horas   \n",
       "33                               hace 8 horas   \n",
       "34                              hace 17 horas   \n",
       "35                      Nasdaq  hace 16 horas   \n",
       "36                              hace 18 horas   \n",
       "37                               hace 8 horas   \n",
       "38         The Times of Israel  hace 17 horas   \n",
       "39                               hace 8 horas   \n",
       "\n",
       "                                                 desc  \\\n",
       "0   (NASDAQ:INSG) Just Released Its Third-Quarter ...   \n",
       "1   (NASDAQ:MLAB) just released its latest second-...   \n",
       "2   (NASDAQ:INSG) Third-Quarter Results: Here's Wh...   \n",
       "3   E-mini futures for the S&P 500 ESc1 jumped mor...   \n",
       "4   A few widely followed companies will announce ...   \n",
       "5   (NASDAQ:ACOR) Analysts Are Reducing Their Fore...   \n",
       "6   This week the Dow Jones rose 6.9%, the S&P 500...   \n",
       "7   Bearish: Analysts Just Cut Their MannKind Corp...   \n",
       "8   (NASDAQ:GTHX) Third-Quarter Results: Here's Wh...   \n",
       "9   Nasdaq Chief Economist Phil Mackintosh joins G...   \n",
       "10  Don't Race Out To Buy FedNat Holding Company (...   \n",
       "11  Nasdaq Chief Economist Phil Mackintosh joins G...   \n",
       "12  And that describes Moderna (NASDAQ: MRNA) and ...   \n",
       "13  The views and opinions expressed herein are th...   \n",
       "14  Nasdaq Chief Economist Phil Mackintosh joins G...   \n",
       "15  The views and opinions expressed herein are th...   \n",
       "16  Close-out merchandise specialist Ollie's Barga...   \n",
       "17  The views and opinions expressed herein are th...   \n",
       "18  The NASDAQ 100 has pulled back during the trad...   \n",
       "19  For the week, The Dow jumped 6.9 percent, the ...   \n",
       "20  The Nasdaq Composite COMP, -1.52% flipped nega...   \n",
       "21  Small gains for the Nasdaq Composite paled in ...   \n",
       "22  The tech-heavy Nasdaq is up a more modest 82.5...   \n",
       "23  Listing on NASDAQ will provide access to large...   \n",
       "24  Nasdaq futures NQc1 rallied more than 2% to ju...   \n",
       "25  The Nasdaq trend continued with the index of t...   \n",
       "26  The views and opinions expressed herein are th...   \n",
       "27  Nasdaq Chief Economist Phil Mackintosh joins G...   \n",
       "28  She started her Nasdaq career as a business an...   \n",
       "29  (NASDAQ:RIGL) Just Released Its Third-Quarter ...   \n",
       "30  The views and opinions expressed herein are th...   \n",
       "31  Greg Abbott will welcome representatives from ...   \n",
       "32  The S&P 500, the Dow, and the Nasdaq all then ...   \n",
       "33  The views and opinions expressed herein are th...   \n",
       "34  (NASDAQ:PLUG), a leading provider of hydrogen ...   \n",
       "35  Who would have guessed that with stimulus off ...   \n",
       "36  WisdomTree NASDAQ 100 3x Daily Leveraged (the ...   \n",
       "37  (Nasdaq:REED), owner of the nation's leading p...   \n",
       "38  Advertising tech firm IronSouce is planning an...   \n",
       "39  It also outperformed Tesla (NASDAQ: TSLA), sha...   \n",
       "\n",
       "                                                 link  \\\n",
       "0   https://finance.yahoo.com/news/inseego-corp-na...   \n",
       "1   https://www.nasdaq.com/articles/mesa-laborator...   \n",
       "2   https://simplywall.st/stocks/us/tech/nasdaq-in...   \n",
       "3   https://www.nasdaq.com/articles/global-markets...   \n",
       "4   https://www.nasdaq.com/articles/3-things-to-wa...   \n",
       "5   https://finance.yahoo.com/news/acorda-therapeu...   \n",
       "6   https://washingtonnewsday.com/news/the-dow-jon...   \n",
       "7   https://finance.yahoo.com/news/bearish-analyst...   \n",
       "8   https://finance.yahoo.com/news/g1-therapeutics...   \n",
       "9   https://www.nasdaq.com/articles/analysis-russi...   \n",
       "10  https://finance.yahoo.com/news/dont-race-buy-f...   \n",
       "11  https://www.nasdaq.com/articles/bolsonaros-sup...   \n",
       "12  https://www.nasdaq.com/articles/moderna-and-pf...   \n",
       "13  https://www.nasdaq.com/articles/reading-betwee...   \n",
       "14  https://www.nasdaq.com/articles/japan-manufact...   \n",
       "15  https://www.nasdaq.com/articles/why-aurora-can...   \n",
       "16  https://www.nasdaq.com/articles/ollies-bargain...   \n",
       "17  https://www.nasdaq.com/articles/retiring-in-20...   \n",
       "18  https://www.dailyforex.com/forex-technical-ana...   \n",
       "19  https://www.nasdaq.com/articles/rally-may-stal...   \n",
       "20  https://www.marketwatch.com/story/dow-futures-...   \n",
       "21  https://www.fool.com/investing/2020/11/09/blam...   \n",
       "22  https://www.nasdaq.com/articles/u.s.-stocks-pu...   \n",
       "23  https://finance.yahoo.com/news/enthusiast-gami...   \n",
       "24  https://www.nasdaq.com/articles/us-stocks-wall...   \n",
       "25       https://capital.com/nasdaq-100-forecast-2021   \n",
       "26  https://www.nasdaq.com/articles/avnet-avt-shar...   \n",
       "27  https://www.nasdaq.com/articles/15-downside-fo...   \n",
       "28  https://news.vanderbilt.edu/2020/11/09/adena-f...   \n",
       "29  https://finance.yahoo.com/news/rigel-pharmaceu...   \n",
       "30  https://www.nasdaq.com/articles/independent-ba...   \n",
       "31  https://www.dallasnews.com/business/technology...   \n",
       "32  https://www.nasdaq.com/articles/best-thematic-...   \n",
       "33  https://www.nasdaq.com/articles/earnings-summa...   \n",
       "34  https://www.globenewswire.com/news-release/202...   \n",
       "35  https://www.nasdaq.com/articles/daily-markets%...   \n",
       "36  https://www.globenewswire.com/news-release/202...   \n",
       "37  https://www.globenewswire.com/news-release/202...   \n",
       "38  https://www.timesofisrael.com/israeli-ad-tech-...   \n",
       "39  https://www.nasdaq.com/articles/why-shares-of-...   \n",
       "\n",
       "                                                  img  \n",
       "0   data:image/gif;base64,R0lGODlhAQABAIAAAP//////...  \n",
       "1   data:image/gif;base64,R0lGODlhAQABAIAAAP//////...  \n",
       "2   data:image/gif;base64,R0lGODlhAQABAIAAAP//////...  \n",
       "3   data:image/gif;base64,R0lGODlhAQABAIAAAP//////...  \n",
       "4   data:image/gif;base64,R0lGODlhAQABAIAAAP//////...  \n",
       "5   data:image/gif;base64,R0lGODlhAQABAIAAAP//////...  \n",
       "6   data:image/gif;base64,R0lGODlhAQABAIAAAP//////...  \n",
       "7   data:image/gif;base64,R0lGODlhAQABAIAAAP//////...  \n",
       "8   data:image/gif;base64,R0lGODlhAQABAIAAAP//////...  \n",
       "9   data:image/gif;base64,R0lGODlhAQABAIAAAP//////...  \n",
       "10  data:image/gif;base64,R0lGODlhAQABAIAAAP//////...  \n",
       "11  data:image/gif;base64,R0lGODlhAQABAIAAAP//////...  \n",
       "12  data:image/gif;base64,R0lGODlhAQABAIAAAP//////...  \n",
       "13  data:image/gif;base64,R0lGODlhAQABAIAAAP//////...  \n",
       "14  data:image/gif;base64,R0lGODlhAQABAIAAAP//////...  \n",
       "15  data:image/gif;base64,R0lGODlhAQABAIAAAP//////...  \n",
       "16  data:image/gif;base64,R0lGODlhAQABAIAAAP//////...  \n",
       "17  data:image/gif;base64,R0lGODlhAQABAIAAAP//////...  \n",
       "18  data:image/gif;base64,R0lGODlhAQABAIAAAP//////...  \n",
       "19  data:image/gif;base64,R0lGODlhAQABAIAAAP//////...  \n",
       "20  data:image/gif;base64,R0lGODlhAQABAIAAAP//////...  \n",
       "21  data:image/gif;base64,R0lGODlhAQABAIAAAP//////...  \n",
       "22  data:image/gif;base64,R0lGODlhAQABAIAAAP//////...  \n",
       "23  data:image/gif;base64,R0lGODlhAQABAIAAAP//////...  \n",
       "24  data:image/gif;base64,R0lGODlhAQABAIAAAP//////...  \n",
       "25  data:image/gif;base64,R0lGODlhAQABAIAAAP//////...  \n",
       "26  data:image/gif;base64,R0lGODlhAQABAIAAAP//////...  \n",
       "27  data:image/gif;base64,R0lGODlhAQABAIAAAP//////...  \n",
       "28  data:image/gif;base64,R0lGODlhAQABAIAAAP//////...  \n",
       "29  data:image/gif;base64,R0lGODlhAQABAIAAAP//////...  \n",
       "30  data:image/gif;base64,R0lGODlhAQABAIAAAP//////...  \n",
       "31  data:image/gif;base64,R0lGODlhAQABAIAAAP//////...  \n",
       "32  data:image/gif;base64,R0lGODlhAQABAIAAAP//////...  \n",
       "33  data:image/gif;base64,R0lGODlhAQABAIAAAP//////...  \n",
       "34  data:image/gif;base64,R0lGODlhAQABAIAAAP//////...  \n",
       "35  data:image/gif;base64,R0lGODlhAQABAIAAAP//////...  \n",
       "36  data:image/gif;base64,R0lGODlhAQABAIAAAP//////...  \n",
       "37  data:image/gif;base64,R0lGODlhAQABAIAAAP//////...  \n",
       "38  data:image/gif;base64,R0lGODlhAQABAIAAAP//////...  \n",
       "39  data:image/gif;base64,R0lGODlhAQABAIAAAP//////...  "
      ]
     },
     "execution_count": 196,
     "metadata": {},
     "output_type": "execute_result"
    }
   ],
   "source": [
    "data"
   ]
  },
  {
   "cell_type": "code",
   "execution_count": 197,
   "metadata": {
    "ExecuteTime": {
     "end_time": "2020-11-10T05:39:54.980559Z",
     "start_time": "2020-11-10T05:39:54.971822Z"
    }
   },
   "outputs": [
    {
     "data": {
      "text/plain": [
       "40"
      ]
     },
     "execution_count": 197,
     "metadata": {},
     "output_type": "execute_result"
    }
   ],
   "source": [
    "len(data)"
   ]
  },
  {
   "cell_type": "code",
   "execution_count": null,
   "metadata": {},
   "outputs": [],
   "source": []
  }
 ],
 "metadata": {
  "kernelspec": {
   "display_name": "Trading",
   "language": "python",
   "name": "trading"
  },
  "language_info": {
   "codemirror_mode": {
    "name": "ipython",
    "version": 3
   },
   "file_extension": ".py",
   "mimetype": "text/x-python",
   "name": "python",
   "nbconvert_exporter": "python",
   "pygments_lexer": "ipython3",
   "version": "3.8.5"
  }
 },
 "nbformat": 4,
 "nbformat_minor": 4
}
